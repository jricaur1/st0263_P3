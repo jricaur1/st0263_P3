{
 "cells": [
  {
   "cell_type": "markdown",
   "metadata": {},
   "source": [
    "# Obtener datos S3 Colombia\n",
    "\n",
    "primero se almacenarán los datos de colombia en un dataframe para posteriormente procesarlos"
   ]
  },
  {
   "cell_type": "code",
   "execution_count": 18,
   "metadata": {
    "scrolled": true
   },
   "outputs": [
    {
     "data": {
      "application/vnd.jupyter.widget-view+json": {
       "model_id": "",
       "version_major": 2,
       "version_minor": 0
      },
      "text/plain": [
       "FloatProgress(value=0.0, bar_style='info', description='Progress:', layout=Layout(height='25px', width='50%'),…"
      ]
     },
     "metadata": {},
     "output_type": "display_data"
    },
    {
     "name": "stdout",
     "output_type": "stream",
     "text": [
      "+----------+---------------------+---------------+-------------------+------------------------+--------------------+--------------------+--------------------+-----------+--------------------+--------------------+--------------------+--------------------+--------------------+--------------------+--------------------+\n",
      "|ID de caso|Fecha de notificación|Codigo DIVIPOLA|Ciudad de ubicación|Departamento o Distrito |            atención|                Edad|                Sexo|       Tipo|              Estado| País de procedencia|                 FIS|     Fecha de muerte|   Fecha diagnostico|    Fecha recuperado|   fecha reporte web|\n",
      "+----------+---------------------+---------------+-------------------+------------------------+--------------------+--------------------+--------------------+-----------+--------------------+--------------------+--------------------+--------------------+--------------------+--------------------+--------------------+\n",
      "|  #meta+id|   #date+notification|          #code|         #adm3+name|              #adm2+name|#indicator+infect...|#indicator+infect...|#indicator+infect...|       null|#indicator+infect...|#indicator+infect...|                null|#date+reported+death|#date+reported+no...|#date+reported+re...|      #date+reported|\n",
      "|         1| 2020-03-02T00:00:...|          11001|        Bogotá D.C.|             Bogotá D.C.|          Recuperado|                  19|                   F|  Importado|                Leve|              Italia|2020-02-27T00:00:...|               -   -|2020-03-06T00:00:...|2020-03-13T00:00:...|2020-03-06T00:00:...|\n",
      "|         2| 2020-03-06T00:00:...|          76111|Guadalajara de Buga|         Valle del Cauca|          Recuperado|                  34|                   M|  Importado|                Leve|              España|2020-03-04T00:00:...|               -   -|2020-03-09T00:00:...|2020-03-19T00:00:...|2020-03-09T00:00:...|\n",
      "|         3| 2020-03-07T00:00:...|           5001|           Medellín|               Antioquia|          Recuperado|                  50|                   F|  Importado|                Leve|              España|2020-02-29T00:00:...|               -   -|2020-03-09T00:00:...|2020-03-15T00:00:...|2020-03-09T00:00:...|\n",
      "|         4| 2020-03-09T00:00:...|           5001|           Medellín|               Antioquia|          Recuperado|                  55|                   M|Relacionado|                Leve|            Colombia|2020-03-06T00:00:...|               -   -|2020-03-11T00:00:...|2020-03-26T00:00:...|2020-03-11T00:00:...|\n",
      "|         5| 2020-03-09T00:00:...|           5001|           Medellín|               Antioquia|          Recuperado|                  25|                   M|Relacionado|                Leve|            Colombia|2020-03-08T00:00:...|               -   -|2020-03-11T00:00:...|2020-03-23T00:00:...|2020-03-11T00:00:...|\n",
      "|         6| 2020-03-10T00:00:...|           5360|             Itagüí|               Antioquia|          Recuperado|                  27|                   F|Relacionado|                Leve|            Colombia|2020-03-06T00:00:...|               -   -|2020-03-11T00:00:...|2020-03-26T00:00:...|2020-03-11T00:00:...|\n",
      "|         7| 2020-03-08T00:00:...|          13001|Cartagena de Indias|     Cartagena D.T. y C.|          Recuperado|                  85|                   F|  Importado|                Leve|Estados Unidos de...|2020-03-02T00:00:...|               -   -|2020-03-11T00:00:...|2020-03-17T00:00:...|2020-03-11T00:00:...|\n",
      "|         8| 2020-03-09T00:00:...|          11001|        Bogotá D.C.|             Bogotá D.C.|          Recuperado|                  22|                   F|  Importado|                Leve|              España|2020-03-06T00:00:...|               -   -|2020-03-11T00:00:...|2020-03-21T00:00:...|2020-03-11T00:00:...|\n",
      "|         9| 2020-03-08T00:00:...|          11001|        Bogotá D.C.|             Bogotá D.C.|          Recuperado|                  28|                   F|  Importado|                Leve|              España|2020-03-07T00:00:...|               -   -|2020-03-11T00:00:...|2020-03-23T00:00:...|2020-03-11T00:00:...|\n",
      "|        10| 2020-03-12T00:00:...|          11001|        Bogotá D.C.|             Bogotá D.C.|          Recuperado|                  36|                   F|  Importado|                Leve|              España|2020-03-06T00:00:...|               -   -|2020-03-12T00:00:...|2020-03-21T00:00:...|2020-03-12T00:00:...|\n",
      "|        11| 2020-03-11T00:00:...|          11001|        Bogotá D.C.|             Bogotá D.C.|          Recuperado|                  42|                   F|  Importado|                Leve|              España|2020-03-06T00:00:...|               -   -|2020-03-12T00:00:...|2020-03-31T00:00:...|2020-03-12T00:00:...|\n",
      "|        12| 2020-03-10T00:00:...|          41001|              Neiva|                   Huila|          Recuperado|                  74|                   F|  Importado|                Leve|              Italia|2020-03-06T00:00:...|               -   -|2020-03-12T00:00:...|2020-04-09T00:00:...|2020-03-12T00:00:...|\n",
      "|        13| 2020-03-10T00:00:...|          41001|              Neiva|                   Huila|          Recuperado|                  68|                   F|Relacionado|                Leve|            Colombia|2020-03-06T00:00:...|               -   -|2020-03-12T00:00:...|2020-03-30T00:00:...|2020-03-12T00:00:...|\n",
      "|        14| 2020-03-10T00:00:...|          76520|            Palmira|         Valle del Cauca|          Recuperado|                  48|                   M|  Importado|                Leve|              España|2020-03-07T00:00:...|               -   -|2020-03-13T00:00:...|2020-03-21T00:00:...|2020-03-13T00:00:...|\n",
      "|        15| 2020-03-13T00:00:...|          50001|      Villavicencio|                    Meta|          Recuperado|                  30|                   F|  Importado|                Leve|              España|2020-03-09T00:00:...|               -   -|2020-03-13T00:00:...|2020-03-23T00:00:...|2020-03-13T00:00:...|\n",
      "|        16| 2020-03-11T00:00:...|          11001|        Bogotá D.C.|             Bogotá D.C.|          Recuperado|                  61|                   F|  Importado|                Leve|              Italia|2020-03-08T00:00:...|               -   -|2020-03-13T00:00:...|2020-03-23T00:00:...|2020-03-13T00:00:...|\n",
      "|        17| 2020-03-11T00:00:...|          11001|        Bogotá D.C.|             Bogotá D.C.|          Recuperado|                  73|                   F|  Importado|                Leve|              España|2020-02-28T00:00:...|               -   -|2020-03-14T00:00:...|2020-03-14T00:00:...|2020-03-14T00:00:...|\n",
      "|        18| 2020-03-11T00:00:...|          11001|        Bogotá D.C.|             Bogotá D.C.|          Recuperado|                  54|                   M|  Importado|                Leve|              España|2020-03-07T00:00:...|               -   -|2020-03-14T00:00:...|2020-04-07T00:00:...|2020-03-14T00:00:...|\n",
      "|        19| 2020-03-12T00:00:...|          11001|        Bogotá D.C.|             Bogotá D.C.|          Recuperado|                  54|                   F|Relacionado|                Leve|            Colombia|2020-03-09T00:00:...|               -   -|2020-03-14T00:00:...|2020-03-24T00:00:...|2020-03-14T00:00:...|\n",
      "+----------+---------------------+---------------+-------------------+------------------------+--------------------+--------------------+--------------------+-----------+--------------------+--------------------+--------------------+--------------------+--------------------+--------------------+--------------------+\n",
      "only showing top 20 rows"
     ]
    }
   ],
   "source": [
    "from pyspark.sql import SQLContext\n",
    "from pyspark import SparkContext\n",
    "sqlContext = SQLContext(sc)\n",
    "filePath = \"s3://proyecto-bigdata-top-tel/COVID-19_data/Colombia/data.csv\"\n",
    "df = sqlContext.read.csv(filePath, header=\"true\")"
   ]
  },
  {
   "cell_type": "markdown",
   "metadata": {},
   "source": [
    "## Análisis exploratorio de datos\n",
    "\n",
    "Con el objetivo de hacer un análisis exploratorio de los datos se harán 3 clasificaciones principales almacenadas en Amazon S3 con base en los parámetros de Muerte, Recuperación y casos confirmados. Estas clasificaciones tendrán subdivisiones por género, departamento y país de origen\n",
    "\n",
    "### Pacientes fallecidos\n",
    "\n",
    "Se crea el Dataframe de pacientes fallecidos"
   ]
  },
  {
   "cell_type": "code",
   "execution_count": 55,
   "metadata": {},
   "outputs": [
    {
     "data": {
      "application/vnd.jupyter.widget-view+json": {
       "model_id": "",
       "version_major": 2,
       "version_minor": 0
      },
      "text/plain": [
       "FloatProgress(value=0.0, bar_style='info', description='Progress:', layout=Layout(height='25px', width='50%'),…"
      ]
     },
     "metadata": {},
     "output_type": "display_data"
    },
    {
     "name": "stdout",
     "output_type": "stream",
     "text": [
      "+----------+---------------------+---------------+-------------------+------------------------+--------------------+--------------------+--------------------+-----------+--------------------+--------------------+--------------------+--------------------+--------------------+--------------------+--------------------+\n",
      "|ID de caso|Fecha de notificación|Codigo DIVIPOLA|Ciudad de ubicación|Departamento o Distrito |            atención|                Edad|                Sexo|       Tipo|              Estado| País de procedencia|                 FIS|     Fecha de muerte|   Fecha diagnostico|    Fecha recuperado|   fecha reporte web|\n",
      "+----------+---------------------+---------------+-------------------+------------------------+--------------------+--------------------+--------------------+-----------+--------------------+--------------------+--------------------+--------------------+--------------------+--------------------+--------------------+\n",
      "|  #meta+id|   #date+notification|          #code|         #adm3+name|              #adm2+name|#indicator+infect...|#indicator+infect...|#indicator+infect...|       null|#indicator+infect...|#indicator+infect...|                null|#date+reported+death|#date+reported+no...|#date+reported+re...|      #date+reported|\n",
      "|       152| 2020-03-18T00:00:...|          11001|        Bogotá D.C.|             Bogotá D.C.|           Fallecido|                  65|                   M|  Importado|           Fallecido|Estados Unidos de...|2020-03-10T00:00:...|2020-04-05T00:00:...|2020-03-20T00:00:...|               -   -|2020-03-20T00:00:...|\n",
      "|       153| 2020-03-18T00:00:...|          11001|        Bogotá D.C.|             Bogotá D.C.|           Fallecido|                  53|                   F|Relacionado|           Fallecido|            Colombia|2020-03-18T00:00:...|2020-04-06T00:00:...|2020-03-20T00:00:...|               -   -|2020-03-20T00:00:...|\n",
      "|       157| 2020-03-20T00:00:...|          47001|        Santa Marta|    Santa Marta D.T. ...|           Fallecido|                  88|                   M|Relacionado|           Fallecido|            Colombia|2020-03-12T00:00:...|2020-03-23T00:00:...|2020-03-20T00:00:...|               -   -|2020-03-20T00:00:...|\n",
      "|       188| 2020-03-17T00:00:...|          76001|               Cali|         Valle del Cauca|           Fallecido|                  70|                   F|Relacionado|           Fallecido|            Colombia|2020-03-08T00:00:...|2020-03-22T00:00:...|2020-03-21T00:00:...|               -   -|2020-03-21T00:00:...|\n",
      "|       197| 2020-03-13T00:00:...|          13001|Cartagena de Indias|     Cartagena D.T. y C.|           Fallecido|                  58|                   M|Relacionado|           Fallecido|            Colombia|2020-03-06T00:00:...|2020-03-16T00:00:...|2020-03-16T00:00:...|               -   -|2020-03-16T00:00:...|\n",
      "|       232| 2020-03-20T00:00:...|          11001|        Bogotá D.C.|             Bogotá D.C.|           Fallecido|                  59|                   F|Relacionado|           Fallecido|            Colombia|2020-03-13T00:00:...|2020-03-26T00:00:...|2020-03-22T00:00:...|               -   -|2020-03-22T00:00:...|\n",
      "|       250| 2020-03-23T00:00:...|          11001|        Bogotá D.C.|             Bogotá D.C.|           Fallecido|                  76|                   M| En estudio|           Fallecido|            Colombia|2020-03-10T00:00:...|2020-03-25T00:00:...|2020-03-23T00:00:...|               -   -|2020-03-23T00:00:...|\n",
      "|       261| 2020-03-23T00:00:...|          11001|        Bogotá D.C.|             Bogotá D.C.|           Fallecido|                  61|                   M|Relacionado|           Fallecido|            Colombia|2020-03-05T00:00:...|2020-04-04T00:00:...|2020-03-23T00:00:...|               -   -|2020-03-23T00:00:...|\n",
      "|       282| 2020-03-20T00:00:...|          76001|               Cali|         Valle del Cauca|           Fallecido|                  40|                   M|  Importado|           Fallecido|Estados Unidos de...|2020-03-14T00:00:...|2020-04-15T00:00:...|2020-03-23T00:00:...|               -   -|2020-03-23T00:00:...|\n",
      "|       286| 2020-03-21T00:00:...|          41001|              Neiva|                   Huila|           Fallecido|                  83|                   F|Relacionado|           Fallecido|            Colombia|2020-03-18T00:00:...|2020-04-06T00:00:...|2020-03-23T00:00:...|               -   -|2020-03-23T00:00:...|\n",
      "|       314| 2020-03-20T00:00:...|          52356|            Ipiales|                  Nariño|           Fallecido|                  62|                   M|  Importado|           Fallecido|             Ecuador|2020-03-19T00:00:...|2020-04-09T00:00:...|2020-03-24T00:00:...|               -   -|2020-03-24T00:00:...|\n",
      "|       326| 2020-03-21T00:00:...|          66001|            Pereira|               Risaralda|           Fallecido|                  61|                   M|Relacionado|           Fallecido|            Colombia|2020-03-18T00:00:...|2020-03-30T00:00:...|2020-03-24T00:00:...|               -   -|2020-03-24T00:00:...|\n",
      "|       389| 2020-03-23T00:00:...|          11001|        Bogotá D.C.|             Bogotá D.C.|           Fallecido|                  73|                   M|Relacionado|           Fallecido|            Colombia|2020-03-19T00:00:...|2020-03-28T00:00:...|2020-03-24T00:00:...|               -   -|2020-03-24T00:00:...|\n",
      "|       425| 2020-03-21T00:00:...|          76001|               Cali|         Valle del Cauca|           Fallecido|                  80|                   F|Relacionado|           Fallecido|            Colombia|2020-03-18T00:00:...|2020-04-04T00:00:...|2020-03-25T00:00:...|               -   -|2020-03-25T00:00:...|\n",
      "|       491| 2020-03-25T00:00:...|          11001|        Bogotá D.C.|             Bogotá D.C.|           Fallecido|                  84|                   M|Relacionado|           Fallecido|            Colombia|2020-03-17T00:00:...|2020-03-26T00:00:...|2020-03-26T00:00:...|               -   -|2020-03-26T00:00:...|\n",
      "|       510| 2020-03-23T00:00:...|          11001|        Bogotá D.C.|             Bogotá D.C.|           Fallecido|                  72|                   M| En estudio|           Fallecido|            Colombia|2020-03-20T00:00:...|2020-04-02T00:00:...|2020-03-27T00:00:...|               -   -|2020-03-27T00:00:...|\n",
      "|       514| 2020-03-22T00:00:...|          11001|        Bogotá D.C.|             Bogotá D.C.|           Fallecido|                  71|                   M|Relacionado|           Fallecido|            Colombia|2020-03-06T00:00:...|2020-04-08T00:00:...|2020-03-27T00:00:...|               -   -|2020-03-27T00:00:...|\n",
      "|       533| 2020-03-24T00:00:...|           8001|       Barranquilla|       Barranquilla D.E.|           Fallecido|                  25|                   M|  Importado|           Fallecido|              España|2020-03-18T00:00:...|2020-04-02T00:00:...|2020-03-27T00:00:...|               -   -|2020-03-27T00:00:...|\n",
      "|       535| 2020-03-24T00:00:...|           8758|            Soledad|               Atlántico|           Fallecido|                  50|                   M|Relacionado|           Fallecido|            Colombia|2020-03-15T00:00:...|2020-03-27T00:00:...|2020-03-27T00:00:...|               -   -|2020-03-27T00:00:...|\n",
      "+----------+---------------------+---------------+-------------------+------------------------+--------------------+--------------------+--------------------+-----------+--------------------+--------------------+--------------------+--------------------+--------------------+--------------------+--------------------+\n",
      "only showing top 20 rows"
     ]
    }
   ],
   "source": [
    "df_fallecidos = df.filter(df[\"Fecha de muerte\"]!=\"-   -\")\n",
    "df_fallecidos.show()"
   ]
  },
  {
   "cell_type": "markdown",
   "metadata": {},
   "source": [
    "### Pacientes Fallecidos por Género\n",
    "\n",
    "ahora con base en el dataset anterior se muestran los pacientes fallecidos por género"
   ]
  },
  {
   "cell_type": "code",
   "execution_count": 57,
   "metadata": {},
   "outputs": [
    {
     "data": {
      "application/vnd.jupyter.widget-view+json": {
       "model_id": "",
       "version_major": 2,
       "version_minor": 0
      },
      "text/plain": [
       "FloatProgress(value=0.0, bar_style='info', description='Progress:', layout=Layout(height='25px', width='50%'),…"
      ]
     },
     "metadata": {},
     "output_type": "display_data"
    },
    {
     "name": "stdout",
     "output_type": "stream",
     "text": [
      "+--------------------+-----+\n",
      "|                Sexo|count|\n",
      "+--------------------+-----+\n",
      "|                   M|  340|\n",
      "|#indicator+infect...|    1|\n",
      "|                   F|  222|\n",
      "+--------------------+-----+"
     ]
    }
   ],
   "source": [
    "df_fallecidos.groupby(\"Sexo\").count().show()"
   ]
  },
  {
   "cell_type": "markdown",
   "metadata": {},
   "source": [
    "### Pacientes Fallecidos por Departamento"
   ]
  },
  {
   "cell_type": "code",
   "execution_count": 59,
   "metadata": {},
   "outputs": [
    {
     "data": {
      "application/vnd.jupyter.widget-view+json": {
       "model_id": "",
       "version_major": 2,
       "version_minor": 0
      },
      "text/plain": [
       "FloatProgress(value=0.0, bar_style='info', description='Progress:', layout=Layout(height='25px', width='50%'),…"
      ]
     },
     "metadata": {},
     "output_type": "display_data"
    },
    {
     "name": "stdout",
     "output_type": "stream",
     "text": [
      "+------------------------+-----+\n",
      "|Departamento o Distrito |count|\n",
      "+------------------------+-----+\n",
      "|         Valle del Cauca|   88|\n",
      "|             Bogotá D.C.|  168|\n",
      "|                   Cesar|   11|\n",
      "|                   Chocó|    3|\n",
      "|                  Boyacá|    3|\n",
      "|      Norte de Santander|   10|\n",
      "|     Cartagena D.T. y C.|   64|\n",
      "|                   Cauca|    4|\n",
      "|    Santa Marta D.T. ...|   17|\n",
      "|                 Caquetá|    1|\n",
      "|                  Caldas|    5|\n",
      "|       Buenaventura D.E.|    7|\n",
      "|               Atlántico|   19|\n",
      "|                 Bolívar|    4|\n",
      "|               Magdalena|    9|\n",
      "|               Risaralda|    8|\n",
      "|                  Tolima|    6|\n",
      "|                 Quindío|    2|\n",
      "|                 Córdoba|    4|\n",
      "|            Cundinamarca|   13|\n",
      "|               Antioquia|    6|\n",
      "|               Santander|    3|\n",
      "|                   Huila|    8|\n",
      "|              La Guajira|    3|\n",
      "|                    Meta|    8|\n",
      "|                  Nariño|   25|\n",
      "|                Amazonas|   36|\n",
      "|       Barranquilla D.E.|   27|\n",
      "|              #adm2+name|    1|\n",
      "+------------------------+-----+"
     ]
    }
   ],
   "source": [
    "df_fallecidos.groupby(\"Departamento o Distrito \").count().show(37)"
   ]
  },
  {
   "cell_type": "markdown",
   "metadata": {},
   "source": [
    "### Pacientes fallecidos por país de origen"
   ]
  },
  {
   "cell_type": "code",
   "execution_count": 60,
   "metadata": {},
   "outputs": [
    {
     "data": {
      "application/vnd.jupyter.widget-view+json": {
       "model_id": "",
       "version_major": 2,
       "version_minor": 0
      },
      "text/plain": [
       "FloatProgress(value=0.0, bar_style='info', description='Progress:', layout=Layout(height='25px', width='50%'),…"
      ]
     },
     "metadata": {},
     "output_type": "display_data"
    },
    {
     "name": "stdout",
     "output_type": "stream",
     "text": [
      "+--------------------+-----+\n",
      "| País de procedencia|count|\n",
      "+--------------------+-----+\n",
      "|              Egipto|    1|\n",
      "|              Panamá|    1|\n",
      "|             Turquía|    1|\n",
      "|#indicator+infect...|    1|\n",
      "|              España|    4|\n",
      "|            Alemania|    1|\n",
      "|           Venezuela|    2|\n",
      "|              Brasil|    2|\n",
      "|            Colombia|  544|\n",
      "|             Ecuador|    1|\n",
      "|Estados Unidos de...|    5|\n",
      "+--------------------+-----+"
     ]
    }
   ],
   "source": [
    "df_fallecidos.groupby(\"País de procedencia\").count().show()"
   ]
  },
  {
   "cell_type": "markdown",
   "metadata": {},
   "source": [
    "### Pacientes Fallecidos Por edad "
   ]
  },
  {
   "cell_type": "code",
   "execution_count": 67,
   "metadata": {
    "scrolled": false
   },
   "outputs": [
    {
     "data": {
      "application/vnd.jupyter.widget-view+json": {
       "model_id": "",
       "version_major": 2,
       "version_minor": 0
      },
      "text/plain": [
       "FloatProgress(value=0.0, bar_style='info', description='Progress:', layout=Layout(height='25px', width='50%'),…"
      ]
     },
     "metadata": {},
     "output_type": "display_data"
    },
    {
     "name": "stdout",
     "output_type": "stream",
     "text": [
      "+--------------------+-----+\n",
      "|                Edad|count|\n",
      "+--------------------+-----+\n",
      "|                  31|    1|\n",
      "|                  61|    9|\n",
      "|                  27|    2|\n",
      "|                  75|   19|\n",
      "|                  26|    2|\n",
      "|                  77|   10|\n",
      "|                  68|   11|\n",
      "|                  60|   12|\n",
      "|                  93|    3|\n",
      "|                  25|    2|\n",
      "|                  81|   14|\n",
      "|                  33|    5|\n",
      "|                  48|    7|\n",
      "|                  97|    2|\n",
      "|                  84|    9|\n",
      "|                  56|    8|\n",
      "|                  36|    2|\n",
      "|                  49|    6|\n",
      "|                  63|   11|\n",
      "|                  39|    3|\n",
      "|                  94|    4|\n",
      "|                  76|   13|\n",
      "|                  29|    3|\n",
      "|                  73|   18|\n",
      "|                  64|   18|\n",
      "|                  85|    9|\n",
      "|                  98|    2|\n",
      "|                  96|    1|\n",
      "|                  46|    8|\n",
      "|                  78|   10|\n",
      "|                  92|    3|\n",
      "|                  86|    6|\n",
      "|                  58|   13|\n",
      "|                  67|   16|\n",
      "|                  37|    3|\n",
      "|                  74|   17|\n",
      "|                  80|   10|\n",
      "|                  45|    2|\n",
      "|                  87|    7|\n",
      "|                   3|    2|\n",
      "|                   0|    3|\n",
      "|                  47|    5|\n",
      "|                  43|    3|\n",
      "|                  70|   13|\n",
      "|                  40|    2|\n",
      "|                  38|    1|\n",
      "|                  79|   20|\n",
      "|                  24|    2|\n",
      "|                  88|    7|\n",
      "|                  83|   15|\n",
      "|                  91|    7|\n",
      "|                  57|   10|\n",
      "|                  51|    4|\n",
      "|                  54|    5|\n",
      "|                  69|   11|\n",
      "|                  71|   17|\n",
      "|                  89|    7|\n",
      "|                  53|    3|\n",
      "|                  20|    1|\n",
      "|                  65|   17|\n",
      "|                  62|   11|\n",
      "|                  66|   18|\n",
      "|                  42|    1|\n",
      "|                  59|   11|\n",
      "|                  52|    3|\n",
      "|                 100|    1|\n",
      "|#indicator+infect...|    1|\n",
      "|                  90|    6|\n",
      "|                  19|    1|\n",
      "|                  41|    5|\n",
      "|                  55|    4|\n",
      "|                  95|    3|\n",
      "|                  44|    6|\n",
      "|                  82|   10|\n",
      "|                  32|    1|\n",
      "|                  72|   17|\n",
      "|                  50|    8|\n",
      "+--------------------+-----+"
     ]
    }
   ],
   "source": [
    "df_fallecidos.groupby(\"Edad\").count().show(80)"
   ]
  },
  {
   "cell_type": "markdown",
   "metadata": {},
   "source": [
    "### Guardar Dataframe"
   ]
  },
  {
   "cell_type": "code",
   "execution_count": 63,
   "metadata": {},
   "outputs": [
    {
     "data": {
      "application/vnd.jupyter.widget-view+json": {
       "model_id": "",
       "version_major": 2,
       "version_minor": 0
      },
      "text/plain": [
       "FloatProgress(value=0.0, bar_style='info', description='Progress:', layout=Layout(height='25px', width='50%'),…"
      ]
     },
     "metadata": {},
     "output_type": "display_data"
    }
   ],
   "source": [
    "df_fallecidos.write.format(\"com.databricks.spark.csv\").save(\"s3://proyecto-bigdata-top-tel/COVID-19_data/Colombia/data_fallecidos.csv\")"
   ]
  },
  {
   "cell_type": "markdown",
   "metadata": {},
   "source": [
    "## Pacientes Recuperados"
   ]
  },
  {
   "cell_type": "code",
   "execution_count": 70,
   "metadata": {},
   "outputs": [
    {
     "data": {
      "application/vnd.jupyter.widget-view+json": {
       "model_id": "",
       "version_major": 2,
       "version_minor": 0
      },
      "text/plain": [
       "FloatProgress(value=0.0, bar_style='info', description='Progress:', layout=Layout(height='25px', width='50%'),…"
      ]
     },
     "metadata": {},
     "output_type": "display_data"
    },
    {
     "name": "stdout",
     "output_type": "stream",
     "text": [
      "+----------+---------------------+---------------+-------------------+------------------------+--------------------+--------------------+--------------------+-----------+--------------------+--------------------+--------------------+--------------------+--------------------+--------------------+--------------------+\n",
      "|ID de caso|Fecha de notificación|Codigo DIVIPOLA|Ciudad de ubicación|Departamento o Distrito |            atención|                Edad|                Sexo|       Tipo|              Estado| País de procedencia|                 FIS|     Fecha de muerte|   Fecha diagnostico|    Fecha recuperado|   fecha reporte web|\n",
      "+----------+---------------------+---------------+-------------------+------------------------+--------------------+--------------------+--------------------+-----------+--------------------+--------------------+--------------------+--------------------+--------------------+--------------------+--------------------+\n",
      "|  #meta+id|   #date+notification|          #code|         #adm3+name|              #adm2+name|#indicator+infect...|#indicator+infect...|#indicator+infect...|       null|#indicator+infect...|#indicator+infect...|                null|#date+reported+death|#date+reported+no...|#date+reported+re...|      #date+reported|\n",
      "|         1| 2020-03-02T00:00:...|          11001|        Bogotá D.C.|             Bogotá D.C.|          Recuperado|                  19|                   F|  Importado|                Leve|              Italia|2020-02-27T00:00:...|               -   -|2020-03-06T00:00:...|2020-03-13T00:00:...|2020-03-06T00:00:...|\n",
      "|         2| 2020-03-06T00:00:...|          76111|Guadalajara de Buga|         Valle del Cauca|          Recuperado|                  34|                   M|  Importado|                Leve|              España|2020-03-04T00:00:...|               -   -|2020-03-09T00:00:...|2020-03-19T00:00:...|2020-03-09T00:00:...|\n",
      "|         3| 2020-03-07T00:00:...|           5001|           Medellín|               Antioquia|          Recuperado|                  50|                   F|  Importado|                Leve|              España|2020-02-29T00:00:...|               -   -|2020-03-09T00:00:...|2020-03-15T00:00:...|2020-03-09T00:00:...|\n",
      "|         4| 2020-03-09T00:00:...|           5001|           Medellín|               Antioquia|          Recuperado|                  55|                   M|Relacionado|                Leve|            Colombia|2020-03-06T00:00:...|               -   -|2020-03-11T00:00:...|2020-03-26T00:00:...|2020-03-11T00:00:...|\n",
      "|         5| 2020-03-09T00:00:...|           5001|           Medellín|               Antioquia|          Recuperado|                  25|                   M|Relacionado|                Leve|            Colombia|2020-03-08T00:00:...|               -   -|2020-03-11T00:00:...|2020-03-23T00:00:...|2020-03-11T00:00:...|\n",
      "|         6| 2020-03-10T00:00:...|           5360|             Itagüí|               Antioquia|          Recuperado|                  27|                   F|Relacionado|                Leve|            Colombia|2020-03-06T00:00:...|               -   -|2020-03-11T00:00:...|2020-03-26T00:00:...|2020-03-11T00:00:...|\n",
      "|         7| 2020-03-08T00:00:...|          13001|Cartagena de Indias|     Cartagena D.T. y C.|          Recuperado|                  85|                   F|  Importado|                Leve|Estados Unidos de...|2020-03-02T00:00:...|               -   -|2020-03-11T00:00:...|2020-03-17T00:00:...|2020-03-11T00:00:...|\n",
      "|         8| 2020-03-09T00:00:...|          11001|        Bogotá D.C.|             Bogotá D.C.|          Recuperado|                  22|                   F|  Importado|                Leve|              España|2020-03-06T00:00:...|               -   -|2020-03-11T00:00:...|2020-03-21T00:00:...|2020-03-11T00:00:...|\n",
      "|         9| 2020-03-08T00:00:...|          11001|        Bogotá D.C.|             Bogotá D.C.|          Recuperado|                  28|                   F|  Importado|                Leve|              España|2020-03-07T00:00:...|               -   -|2020-03-11T00:00:...|2020-03-23T00:00:...|2020-03-11T00:00:...|\n",
      "|        10| 2020-03-12T00:00:...|          11001|        Bogotá D.C.|             Bogotá D.C.|          Recuperado|                  36|                   F|  Importado|                Leve|              España|2020-03-06T00:00:...|               -   -|2020-03-12T00:00:...|2020-03-21T00:00:...|2020-03-12T00:00:...|\n",
      "|        11| 2020-03-11T00:00:...|          11001|        Bogotá D.C.|             Bogotá D.C.|          Recuperado|                  42|                   F|  Importado|                Leve|              España|2020-03-06T00:00:...|               -   -|2020-03-12T00:00:...|2020-03-31T00:00:...|2020-03-12T00:00:...|\n",
      "|        12| 2020-03-10T00:00:...|          41001|              Neiva|                   Huila|          Recuperado|                  74|                   F|  Importado|                Leve|              Italia|2020-03-06T00:00:...|               -   -|2020-03-12T00:00:...|2020-04-09T00:00:...|2020-03-12T00:00:...|\n",
      "|        13| 2020-03-10T00:00:...|          41001|              Neiva|                   Huila|          Recuperado|                  68|                   F|Relacionado|                Leve|            Colombia|2020-03-06T00:00:...|               -   -|2020-03-12T00:00:...|2020-03-30T00:00:...|2020-03-12T00:00:...|\n",
      "|        14| 2020-03-10T00:00:...|          76520|            Palmira|         Valle del Cauca|          Recuperado|                  48|                   M|  Importado|                Leve|              España|2020-03-07T00:00:...|               -   -|2020-03-13T00:00:...|2020-03-21T00:00:...|2020-03-13T00:00:...|\n",
      "|        15| 2020-03-13T00:00:...|          50001|      Villavicencio|                    Meta|          Recuperado|                  30|                   F|  Importado|                Leve|              España|2020-03-09T00:00:...|               -   -|2020-03-13T00:00:...|2020-03-23T00:00:...|2020-03-13T00:00:...|\n",
      "|        16| 2020-03-11T00:00:...|          11001|        Bogotá D.C.|             Bogotá D.C.|          Recuperado|                  61|                   F|  Importado|                Leve|              Italia|2020-03-08T00:00:...|               -   -|2020-03-13T00:00:...|2020-03-23T00:00:...|2020-03-13T00:00:...|\n",
      "|        17| 2020-03-11T00:00:...|          11001|        Bogotá D.C.|             Bogotá D.C.|          Recuperado|                  73|                   F|  Importado|                Leve|              España|2020-02-28T00:00:...|               -   -|2020-03-14T00:00:...|2020-03-14T00:00:...|2020-03-14T00:00:...|\n",
      "|        18| 2020-03-11T00:00:...|          11001|        Bogotá D.C.|             Bogotá D.C.|          Recuperado|                  54|                   M|  Importado|                Leve|              España|2020-03-07T00:00:...|               -   -|2020-03-14T00:00:...|2020-04-07T00:00:...|2020-03-14T00:00:...|\n",
      "|        19| 2020-03-12T00:00:...|          11001|        Bogotá D.C.|             Bogotá D.C.|          Recuperado|                  54|                   F|Relacionado|                Leve|            Colombia|2020-03-09T00:00:...|               -   -|2020-03-14T00:00:...|2020-03-24T00:00:...|2020-03-14T00:00:...|\n",
      "+----------+---------------------+---------------+-------------------+------------------------+--------------------+--------------------+--------------------+-----------+--------------------+--------------------+--------------------+--------------------+--------------------+--------------------+--------------------+\n",
      "only showing top 20 rows"
     ]
    }
   ],
   "source": [
    "df_recuperados = df.filter(df[\"Fecha Recuperado\"]!=\"-   -\")\n",
    "df_recuperados.show()"
   ]
  },
  {
   "cell_type": "markdown",
   "metadata": {},
   "source": [
    "### Pacientes recuperados por Género\n",
    "\n",
    "ahora con base en el dataset anterior se muestran los pacientes recuperados por género"
   ]
  },
  {
   "cell_type": "code",
   "execution_count": 71,
   "metadata": {},
   "outputs": [
    {
     "data": {
      "application/vnd.jupyter.widget-view+json": {
       "model_id": "",
       "version_major": 2,
       "version_minor": 0
      },
      "text/plain": [
       "FloatProgress(value=0.0, bar_style='info', description='Progress:', layout=Layout(height='25px', width='50%'),…"
      ]
     },
     "metadata": {},
     "output_type": "display_data"
    },
    {
     "name": "stdout",
     "output_type": "stream",
     "text": [
      "+--------------------+-----+\n",
      "|                Sexo|count|\n",
      "+--------------------+-----+\n",
      "|                   M| 1770|\n",
      "|#indicator+infect...|    1|\n",
      "|                   F| 1817|\n",
      "+--------------------+-----+"
     ]
    }
   ],
   "source": [
    "df_recuperados.groupby(\"Sexo\").count().show()"
   ]
  },
  {
   "cell_type": "markdown",
   "metadata": {},
   "source": [
    "### Pacientes recuperados por Departamento"
   ]
  },
  {
   "cell_type": "code",
   "execution_count": 72,
   "metadata": {},
   "outputs": [
    {
     "data": {
      "application/vnd.jupyter.widget-view+json": {
       "model_id": "",
       "version_major": 2,
       "version_minor": 0
      },
      "text/plain": [
       "FloatProgress(value=0.0, bar_style='info', description='Progress:', layout=Layout(height='25px', width='50%'),…"
      ]
     },
     "metadata": {},
     "output_type": "display_data"
    },
    {
     "name": "stdout",
     "output_type": "stream",
     "text": [
      "+------------------------+-----+\n",
      "|Departamento o Distrito |count|\n",
      "+------------------------+-----+\n",
      "|         Valle del Cauca|  531|\n",
      "|    Archipiélago de S...|    5|\n",
      "|             Bogotá D.C.| 1380|\n",
      "|                   Cesar|   53|\n",
      "|                   Chocó|    8|\n",
      "|                  Boyacá|   29|\n",
      "|      Norte de Santander|   62|\n",
      "|     Cartagena D.T. y C.|  153|\n",
      "|                   Sucre|    1|\n",
      "|                   Cauca|   26|\n",
      "|    Santa Marta D.T. ...|   75|\n",
      "|                  Caldas|   52|\n",
      "|       Buenaventura D.E.|   12|\n",
      "|               Atlántico|   38|\n",
      "|                Casanare|    9|\n",
      "|                 Bolívar|   18|\n",
      "|               Magdalena|   32|\n",
      "|               Risaralda|  152|\n",
      "|                  Tolima|   67|\n",
      "|                 Quindío|   57|\n",
      "|                 Córdoba|   14|\n",
      "|            Cundinamarca|  172|\n",
      "|               Antioquia|  319|\n",
      "|               Santander|   30|\n",
      "|                   Huila|   64|\n",
      "|              La Guajira|    5|\n",
      "|                    Meta|   56|\n",
      "|                  Nariño|   62|\n",
      "|                Amazonas|   31|\n",
      "|       Barranquilla D.E.|   74|\n",
      "|              #adm2+name|    1|\n",
      "+------------------------+-----+"
     ]
    }
   ],
   "source": [
    "df_recuperados.groupby(\"Departamento o Distrito \").count().show(37)"
   ]
  },
  {
   "cell_type": "markdown",
   "metadata": {},
   "source": [
    "### Pacientes recuperados por país de origen"
   ]
  },
  {
   "cell_type": "code",
   "execution_count": 73,
   "metadata": {},
   "outputs": [
    {
     "data": {
      "application/vnd.jupyter.widget-view+json": {
       "model_id": "",
       "version_major": 2,
       "version_minor": 0
      },
      "text/plain": [
       "FloatProgress(value=0.0, bar_style='info', description='Progress:', layout=Layout(height='25px', width='50%'),…"
      ]
     },
     "metadata": {},
     "output_type": "display_data"
    },
    {
     "name": "stdout",
     "output_type": "stream",
     "text": [
      "+--------------------+-----+\n",
      "| País de procedencia|count|\n",
      "+--------------------+-----+\n",
      "|              Canadá|    4|\n",
      "|               Suiza|    1|\n",
      "|              Egipto|    6|\n",
      "|             Francia|   15|\n",
      "|           Argentina|    3|\n",
      "|             Bélgica|    1|\n",
      "|              Panamá|   29|\n",
      "|             Turquía|   24|\n",
      "|              Israel|    5|\n",
      "|             Irlanda|    1|\n",
      "|              México|   40|\n",
      "|               Kenia|    1|\n",
      "|             Croacia|    1|\n",
      "|              Italia|    9|\n",
      "|         Puerto Rico|   10|\n",
      "|               Chile|    2|\n",
      "|Emiratos Árabes U...|    2|\n",
      "|      Arabia Saudita|    1|\n",
      "|               Aruba|    3|\n",
      "|San Martín (Francia)|    7|\n",
      "+--------------------+-----+\n",
      "only showing top 20 rows"
     ]
    }
   ],
   "source": [
    "df_recuperados.groupby(\"País de procedencia\").count().show()"
   ]
  },
  {
   "cell_type": "markdown",
   "metadata": {},
   "source": [
    "### Conteo de Pacientes Recuperados por País de origen"
   ]
  },
  {
   "cell_type": "code",
   "execution_count": 75,
   "metadata": {
    "scrolled": false
   },
   "outputs": [
    {
     "data": {
      "application/vnd.jupyter.widget-view+json": {
       "model_id": "",
       "version_major": 2,
       "version_minor": 0
      },
      "text/plain": [
       "FloatProgress(value=0.0, bar_style='info', description='Progress:', layout=Layout(height='25px', width='50%'),…"
      ]
     },
     "metadata": {},
     "output_type": "display_data"
    },
    {
     "name": "stdout",
     "output_type": "stream",
     "text": [
      "2871"
     ]
    }
   ],
   "source": [
    "df_recuperados.filter(df[\"País de procedencia\"] == \"Colombia\").count()"
   ]
  },
  {
   "cell_type": "markdown",
   "metadata": {},
   "source": [
    "### guardar dataframe"
   ]
  },
  {
   "cell_type": "code",
   "execution_count": 76,
   "metadata": {},
   "outputs": [
    {
     "data": {
      "application/vnd.jupyter.widget-view+json": {
       "model_id": "",
       "version_major": 2,
       "version_minor": 0
      },
      "text/plain": [
       "FloatProgress(value=0.0, bar_style='info', description='Progress:', layout=Layout(height='25px', width='50%'),…"
      ]
     },
     "metadata": {},
     "output_type": "display_data"
    }
   ],
   "source": [
    "df_recuperados.write.format(\"com.databricks.spark.csv\").save(\"s3://proyecto-bigdata-top-tel/COVID-19_data/Colombia/data_recuperados.csv\")"
   ]
  },
  {
   "cell_type": "markdown",
   "metadata": {},
   "source": [
    "## Pacientes Diagnosticados"
   ]
  },
  {
   "cell_type": "markdown",
   "metadata": {},
   "source": [
    "### Personas de otro país de origen agrupadas por estado"
   ]
  },
  {
   "cell_type": "code",
   "execution_count": 77,
   "metadata": {},
   "outputs": [
    {
     "data": {
      "application/vnd.jupyter.widget-view+json": {
       "model_id": "",
       "version_major": 2,
       "version_minor": 0
      },
      "text/plain": [
       "FloatProgress(value=0.0, bar_style='info', description='Progress:', layout=Layout(height='25px', width='50%'),…"
      ]
     },
     "metadata": {},
     "output_type": "display_data"
    },
    {
     "name": "stdout",
     "output_type": "stream",
     "text": [
      "+--------------------+-----+\n",
      "|              Estado|count|\n",
      "+--------------------+-----+\n",
      "|                Leve|  786|\n",
      "|        Asintomático|   37|\n",
      "|#indicator+infect...|    1|\n",
      "|               Grave|    2|\n",
      "|           Fallecido|   18|\n",
      "|            Moderado|   11|\n",
      "+--------------------+-----+"
     ]
    }
   ],
   "source": [
    "df.filter(df[\"País de procedencia\"] != \"Colombia\").groupby(\"Estado\").count().show()"
   ]
  },
  {
   "cell_type": "markdown",
   "metadata": {},
   "source": [
    "### Personas Diagnosticadas en Marzo"
   ]
  },
  {
   "cell_type": "code",
   "execution_count": 78,
   "metadata": {},
   "outputs": [
    {
     "data": {
      "application/vnd.jupyter.widget-view+json": {
       "model_id": "",
       "version_major": 2,
       "version_minor": 0
      },
      "text/plain": [
       "FloatProgress(value=0.0, bar_style='info', description='Progress:', layout=Layout(height='25px', width='50%'),…"
      ]
     },
     "metadata": {},
     "output_type": "display_data"
    },
    {
     "name": "stdout",
     "output_type": "stream",
     "text": [
      "+----------+---------------------+---------------+-------------------+------------------------+----------+----+----+-----------+------+--------------------+--------------------+---------------+--------------------+--------------------+--------------------+\n",
      "|ID de caso|Fecha de notificación|Codigo DIVIPOLA|Ciudad de ubicación|Departamento o Distrito |  atención|Edad|Sexo|       Tipo|Estado| País de procedencia|                 FIS|Fecha de muerte|   Fecha diagnostico|    Fecha recuperado|   fecha reporte web|\n",
      "+----------+---------------------+---------------+-------------------+------------------------+----------+----+----+-----------+------+--------------------+--------------------+---------------+--------------------+--------------------+--------------------+\n",
      "|         1| 2020-03-02T00:00:...|          11001|        Bogotá D.C.|             Bogotá D.C.|Recuperado|  19|   F|  Importado|  Leve|              Italia|2020-02-27T00:00:...|          -   -|2020-03-06T00:00:...|2020-03-13T00:00:...|2020-03-06T00:00:...|\n",
      "|         2| 2020-03-06T00:00:...|          76111|Guadalajara de Buga|         Valle del Cauca|Recuperado|  34|   M|  Importado|  Leve|              España|2020-03-04T00:00:...|          -   -|2020-03-09T00:00:...|2020-03-19T00:00:...|2020-03-09T00:00:...|\n",
      "|         3| 2020-03-07T00:00:...|           5001|           Medellín|               Antioquia|Recuperado|  50|   F|  Importado|  Leve|              España|2020-02-29T00:00:...|          -   -|2020-03-09T00:00:...|2020-03-15T00:00:...|2020-03-09T00:00:...|\n",
      "|         4| 2020-03-09T00:00:...|           5001|           Medellín|               Antioquia|Recuperado|  55|   M|Relacionado|  Leve|            Colombia|2020-03-06T00:00:...|          -   -|2020-03-11T00:00:...|2020-03-26T00:00:...|2020-03-11T00:00:...|\n",
      "|         5| 2020-03-09T00:00:...|           5001|           Medellín|               Antioquia|Recuperado|  25|   M|Relacionado|  Leve|            Colombia|2020-03-08T00:00:...|          -   -|2020-03-11T00:00:...|2020-03-23T00:00:...|2020-03-11T00:00:...|\n",
      "|         6| 2020-03-10T00:00:...|           5360|             Itagüí|               Antioquia|Recuperado|  27|   F|Relacionado|  Leve|            Colombia|2020-03-06T00:00:...|          -   -|2020-03-11T00:00:...|2020-03-26T00:00:...|2020-03-11T00:00:...|\n",
      "|         7| 2020-03-08T00:00:...|          13001|Cartagena de Indias|     Cartagena D.T. y C.|Recuperado|  85|   F|  Importado|  Leve|Estados Unidos de...|2020-03-02T00:00:...|          -   -|2020-03-11T00:00:...|2020-03-17T00:00:...|2020-03-11T00:00:...|\n",
      "|         8| 2020-03-09T00:00:...|          11001|        Bogotá D.C.|             Bogotá D.C.|Recuperado|  22|   F|  Importado|  Leve|              España|2020-03-06T00:00:...|          -   -|2020-03-11T00:00:...|2020-03-21T00:00:...|2020-03-11T00:00:...|\n",
      "|         9| 2020-03-08T00:00:...|          11001|        Bogotá D.C.|             Bogotá D.C.|Recuperado|  28|   F|  Importado|  Leve|              España|2020-03-07T00:00:...|          -   -|2020-03-11T00:00:...|2020-03-23T00:00:...|2020-03-11T00:00:...|\n",
      "|        10| 2020-03-12T00:00:...|          11001|        Bogotá D.C.|             Bogotá D.C.|Recuperado|  36|   F|  Importado|  Leve|              España|2020-03-06T00:00:...|          -   -|2020-03-12T00:00:...|2020-03-21T00:00:...|2020-03-12T00:00:...|\n",
      "|        11| 2020-03-11T00:00:...|          11001|        Bogotá D.C.|             Bogotá D.C.|Recuperado|  42|   F|  Importado|  Leve|              España|2020-03-06T00:00:...|          -   -|2020-03-12T00:00:...|2020-03-31T00:00:...|2020-03-12T00:00:...|\n",
      "|        12| 2020-03-10T00:00:...|          41001|              Neiva|                   Huila|Recuperado|  74|   F|  Importado|  Leve|              Italia|2020-03-06T00:00:...|          -   -|2020-03-12T00:00:...|2020-04-09T00:00:...|2020-03-12T00:00:...|\n",
      "|        13| 2020-03-10T00:00:...|          41001|              Neiva|                   Huila|Recuperado|  68|   F|Relacionado|  Leve|            Colombia|2020-03-06T00:00:...|          -   -|2020-03-12T00:00:...|2020-03-30T00:00:...|2020-03-12T00:00:...|\n",
      "|        14| 2020-03-10T00:00:...|          76520|            Palmira|         Valle del Cauca|Recuperado|  48|   M|  Importado|  Leve|              España|2020-03-07T00:00:...|          -   -|2020-03-13T00:00:...|2020-03-21T00:00:...|2020-03-13T00:00:...|\n",
      "|        15| 2020-03-13T00:00:...|          50001|      Villavicencio|                    Meta|Recuperado|  30|   F|  Importado|  Leve|              España|2020-03-09T00:00:...|          -   -|2020-03-13T00:00:...|2020-03-23T00:00:...|2020-03-13T00:00:...|\n",
      "|        16| 2020-03-11T00:00:...|          11001|        Bogotá D.C.|             Bogotá D.C.|Recuperado|  61|   F|  Importado|  Leve|              Italia|2020-03-08T00:00:...|          -   -|2020-03-13T00:00:...|2020-03-23T00:00:...|2020-03-13T00:00:...|\n",
      "|        17| 2020-03-11T00:00:...|          11001|        Bogotá D.C.|             Bogotá D.C.|Recuperado|  73|   F|  Importado|  Leve|              España|2020-02-28T00:00:...|          -   -|2020-03-14T00:00:...|2020-03-14T00:00:...|2020-03-14T00:00:...|\n",
      "|        18| 2020-03-11T00:00:...|          11001|        Bogotá D.C.|             Bogotá D.C.|Recuperado|  54|   M|  Importado|  Leve|              España|2020-03-07T00:00:...|          -   -|2020-03-14T00:00:...|2020-04-07T00:00:...|2020-03-14T00:00:...|\n",
      "|        19| 2020-03-12T00:00:...|          11001|        Bogotá D.C.|             Bogotá D.C.|Recuperado|  54|   F|Relacionado|  Leve|            Colombia|2020-03-09T00:00:...|          -   -|2020-03-14T00:00:...|2020-03-24T00:00:...|2020-03-14T00:00:...|\n",
      "|        20| 2020-03-11T00:00:...|           5001|           Medellín|               Antioquia|Recuperado|  26|   F|Relacionado|  Leve|            Colombia|2020-03-09T00:00:...|          -   -|2020-03-14T00:00:...|2020-03-24T00:00:...|2020-03-14T00:00:...|\n",
      "+----------+---------------------+---------------+-------------------+------------------------+----------+----+----+-----------+------+--------------------+--------------------+---------------+--------------------+--------------------+--------------------+\n",
      "only showing top 20 rows"
     ]
    }
   ],
   "source": [
    "df.filter(df[\"Fecha diagnostico\"].startswith(\"2020-03\")).show()"
   ]
  },
  {
   "cell_type": "code",
   "execution_count": null,
   "metadata": {},
   "outputs": [],
   "source": []
  }
 ],
 "metadata": {
  "kernelspec": {
   "display_name": "PySpark",
   "language": "",
   "name": "pysparkkernel"
  },
  "language_info": {
   "codemirror_mode": {
    "name": "python",
    "version": 3
   },
   "mimetype": "text/x-python",
   "name": "pyspark",
   "pygments_lexer": "python3"
  }
 },
 "nbformat": 4,
 "nbformat_minor": 4
}
